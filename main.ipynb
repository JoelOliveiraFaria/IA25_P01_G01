{
 "cells": [
  {
   "cell_type": "markdown",
   "id": "b5b7b323",
   "metadata": {},
   "source": [
    "# Bibliotecas"
   ]
  },
  {
   "cell_type": "code",
   "execution_count": 1,
   "id": "3ead1bf4",
   "metadata": {},
   "outputs": [],
   "source": [
    "from constraint import Problem, AllDifferentConstraint\n",
    "import json"
   ]
  },
  {
   "cell_type": "markdown",
   "id": "0b244768",
   "metadata": {},
   "source": [
    "# Leitura de Dataset"
   ]
  },
  {
   "cell_type": "markdown",
   "id": "40e242d0",
   "metadata": {},
   "source": [
    "## Função para ler Dataset apartir de ficheiro texto"
   ]
  },
  {
   "cell_type": "code",
   "execution_count": 2,
   "id": "a28b9113",
   "metadata": {},
   "outputs": [],
   "source": [
    "def lerDados(filename):\n",
    "    dados = {\"cc\" : {}, \"olw\" : [], \"dsd\": {}, \"tr\" : {}, \"rr\" : {}, \"oc\" : {}}\n",
    "    secao = None\n",
    "\n",
    "    with open(filename, \"r\", encoding=\"utf-8\") as file:\n",
    "        for linha in file:\n",
    "            linha = linha.strip()\n",
    "            if not linha or linha.startswith(\"—\"):\n",
    "                continue\n",
    "\n",
    "            if linha.startswith(\"#\"):\n",
    "                secao = linha.split()[0][1:]\n",
    "                continue\n",
    "\n",
    "            partes = linha.split()\n",
    "\n",
    "            match secao:\n",
    "                case \"cc\":\n",
    "                    turma, cursos = partes[0], partes[1:]\n",
    "                    dados[\"cc\"][turma] = cursos\n",
    "                \n",
    "                case \"olw\":\n",
    "                    if partes:\n",
    "                        dados[\"olw\"].append(partes[0])\n",
    "                \n",
    "                case \"dsd\":\n",
    "                    docente, cursos = partes[0], partes[1:]\n",
    "                    dados[\"dsd\"][docente] = cursos\n",
    "\n",
    "                case \"tr\":\n",
    "                    docente, restricoes = partes[0], list(map(int, partes[1:]))\n",
    "                    dados[\"tr\"][docente] = restricoes\n",
    "\n",
    "                case \"rr\":\n",
    "                    curso, sala = partes[0], partes[1]\n",
    "                    dados[\"rr\"][curso] = sala\n",
    "\n",
    "                case \"oc\":\n",
    "                    curso, idx = partes[0], int(partes[1])\n",
    "                    dados[\"oc\"][curso] = idx\n",
    "\n",
    "                case _:\n",
    "                    pass\n",
    "\n",
    "    return dados"
   ]
  },
  {
   "cell_type": "markdown",
   "id": "7b0fda8c",
   "metadata": {},
   "source": [
    "## Leitura de dados e inicialiação de CSP Problem"
   ]
  },
  {
   "cell_type": "code",
   "execution_count": 3,
   "id": "a94d5cee",
   "metadata": {},
   "outputs": [
    {
     "name": "stdout",
     "output_type": "stream",
     "text": [
      "A carregar dados\n",
      "{'cc': {'t01': ['UC11', 'UC12', 'UC13', 'UC14', 'UC15'], 't02': ['UC21', 'UC22', 'UC23', 'UC24', 'UC25'], 't03': ['UC31', 'UC32', 'UC33', 'UC34', 'UC35']}, 'olw': [], 'dsd': {'jo': ['UC11', 'UC21', 'UC22', 'UC31'], 'mike': ['UC12', 'UC23', 'UC32'], 'rob': ['UC13', 'UC14', 'UC24', 'UC33'], 'sue': ['UC15', 'UC25', 'UC34', 'UC35']}, 'tr': {'mike': [13, 14, 15, 16, 17, 18, 19, 20], 'rob': [1, 2, 3, 4], 'sue': [9, 10, 11, 12, 17, 18, 19, 20]}, 'rr': {'UC14': 'Lab01', 'UC22': 'Lab01'}, 'oc': {'UC21': 2, 'UC31': 2}}\n"
     ]
    }
   ],
   "source": [
    "\n",
    "dados = lerDados(\"ClassTT_01_tiny.txt\")\n",
    "print(\"A carregar dados\")\n",
    "print(dados)\n",
    "\n",
    "# Inicializar problema CSP\n",
    "problem = Problem()\n",
    "blocos = list(range(1, 21))  # 20 blocos semanais"
   ]
  },
  {
   "cell_type": "markdown",
   "id": "0f5f6480",
   "metadata": {},
   "source": [
    "# Criação de variáveis"
   ]
  },
  {
   "cell_type": "markdown",
   "id": "ed2ad0cd",
   "metadata": {},
   "source": [
    "## Criação de aulas para cada UC\n",
    "Owl - one weekly lesson\n",
    "O nome das variáveis é a UC + o número da sua lição semanal\n",
    "Exemplo: UC11_1 e UC11_2, é uma UC não presente em OWL logo tem 2 aulas semanais\n",
    "\n",
    "\n",
    "## Restrição de blocos\n",
    "\n",
    "A restrição (constraint) aplicada durante a criação das variáveis tem como objetivo garantir que 2 blocos da memsa UC (unidade curricular), X e Y, ficam em blocos distintos\n",
    "Várias aulas podem ocorrer em simultanêo mas todas de UCs diferentes"
   ]
  },
  {
   "cell_type": "code",
   "execution_count": 4,
   "id": "f6a2367a",
   "metadata": {},
   "outputs": [],
   "source": [
    "for turma, cursos in dados[\"cc\"].items():\n",
    "    for curso in cursos:\n",
    "        if curso not in dados.get(\"olw\", []):\n",
    "            problem.addVariable(f\"{curso}_1\", blocos)\n",
    "            problem.addVariable(f\"{curso}_2\", blocos)\n",
    "            problem.addConstraint(lambda x, y: x != y, (f\"{curso}_1\", f\"{curso}_2\")) # Garantir que as duas aulas são em blocos diferentes\n",
    "        else:\n",
    "            problem.addVariable(f\"{curso}_1\", blocos) #UC Owls têm apenas 1 aula por semana"
   ]
  },
  {
   "cell_type": "markdown",
   "id": "bd9c8028",
   "metadata": {},
   "source": [
    "# Criação de restrições (Constraints)\n",
    "\n",
    "* Restrição de bloco de cada docente\n",
    "* Restrição de tempo dos docentes\n",
    "* Retrição de blocos por turma\n",
    "* Restrição de salas"
   ]
  },
  {
   "cell_type": "markdown",
   "id": "f7555ac4",
   "metadata": {},
   "source": [
    "## Restrição de bloco de cada docente\n",
    "Mesmo docente não pode dar mais que uma aulas no mesmo bloco"
   ]
  },
  {
   "cell_type": "code",
   "execution_count": 5,
   "id": "f96ddd0c",
   "metadata": {},
   "outputs": [],
   "source": [
    "for docente, cursos in dados[\"dsd\"].items():\n",
    "    variaveis = []\n",
    "    for curso in cursos:    #array com todas UCs de um docente UC_1 e UC_2 ou apenas UC_1 se for owl\n",
    "        if curso not in dados.get(\"olw\", []):\n",
    "            variaveis.extend([f\"{curso}_1\", f\"{curso}_2\"])\n",
    "        else:\n",
    "            variaveis.append(f\"{curso}_1\")\n",
    "    problem.addConstraint(AllDifferentConstraint(), variaveis) # Constraint para que não tenha UCs repetidas\n"
   ]
  },
  {
   "cell_type": "markdown",
   "id": "a02f6d5f",
   "metadata": {},
   "source": [
    "## Restrição de tempo dos docentes\n",
    "Docentes contêm restrições de tempo, um docente pode indicar que não dá aulas nos blocos [ X, Y, Z, etc...]"
   ]
  },
  {
   "cell_type": "code",
   "execution_count": 6,
   "id": "35acf10d",
   "metadata": {},
   "outputs": [],
   "source": [
    "for docente, indisponiveis in dados.get(\"tr\", {}).items():\n",
    "    cursos = dados[\"dsd\"].get(docente, []) #UCs do docente\n",
    "    for curso in cursos:\n",
    "        if curso not in dados.get(\"olw\", []):\n",
    "            for i in [1, 2]:\n",
    "                problem.addConstraint(\n",
    "                    lambda bloco, indisponiveis=indisponiveis: bloco not in indisponiveis, #Bloco = variável , indisponiveis = lista de blocos indisponiveis (Dominio da variável)\n",
    "                    (f\"{curso}_{i}\",)\n",
    "                )\n",
    "        else:\n",
    "            problem.addConstraint(\n",
    "                lambda bloco, indisponiveis=indisponiveis: bloco not in indisponiveis, #Compara UC_x com blocos indisponiveis para o docente que leciona a UC\n",
    "                (f\"{curso}_1\",)\n",
    "            )"
   ]
  },
  {
   "cell_type": "markdown",
   "id": "1e24c7d5",
   "metadata": {},
   "source": [
    "## Retrição de blocos por turma\n",
    "Uma turma não pode ter mais que uma aula no mesmo bloco"
   ]
  },
  {
   "cell_type": "code",
   "execution_count": 7,
   "id": "e8dbbbfc",
   "metadata": {},
   "outputs": [],
   "source": [
    "for turma, cursos in dados[\"cc\"].items():\n",
    "    variaveis = []\n",
    "    for curso in cursos:    #array com todas UCs de uma turma UC_1 e UC_2 ou apenas UC_1 se for owl\n",
    "        if curso not in dados.get(\"olw\", []):\n",
    "            variaveis.extend([f\"{curso}_1\", f\"{curso}_2\"])\n",
    "        else:\n",
    "            variaveis.append(f\"{curso}_1\")\n",
    "    problem.addConstraint(AllDifferentConstraint(), variaveis) # Constraint para que não tenha UCs repetidas"
   ]
  },
  {
   "cell_type": "markdown",
   "id": "ea775aec",
   "metadata": {},
   "source": [
    "## Restrição de salas\n",
    "Certas UCs só podem ser lecionadas em certas salas, logo não é pode ter mais que uma UC que necessitem a mesma sala no mesmo bloco"
   ]
  },
  {
   "cell_type": "code",
   "execution_count": 8,
   "id": "148316e1",
   "metadata": {},
   "outputs": [],
   "source": [
    "### Criar dicionário para salas atribuídas"
   ]
  },
  {
   "cell_type": "code",
   "execution_count": 9,
   "id": "92dc999f",
   "metadata": {},
   "outputs": [],
   "source": [
    "salas = {}\n",
    "\n",
    "for curso, sala in dados.get(\"rr\", {}).items():\n",
    "    if sala not in salas:\n",
    "        salas[sala] = []\n",
    "    if curso not in dados.get(\"olw\", []):\n",
    "        salas[sala].extend([f\"{curso}_1\", f\"{curso}_2\"])\n",
    "    else:\n",
    "        salas[sala].append(f\"{curso}_1\")\n"
   ]
  },
  {
   "cell_type": "markdown",
   "id": "1fd988cc",
   "metadata": {},
   "source": [
    "### Aplicar restrição nos blocos que usam as salas no dicionário"
   ]
  },
  {
   "cell_type": "code",
   "execution_count": 10,
   "id": "bf060f86",
   "metadata": {},
   "outputs": [],
   "source": [
    "\n",
    "# Cada sala só pode ter uma aula por bloco\n",
    "for sala, variaveis in salas.items():\n",
    "    problem.addConstraint(AllDifferentConstraint(), variaveis) # Constraint para que não tenha UCs com a mesma sala não tenham o mesmo bloco"
   ]
  },
  {
   "cell_type": "markdown",
   "id": "2f7c054b",
   "metadata": {},
   "source": [
    "# Solução\n",
    "Mostra a primeira solução encontrada para o CSP e mostra os resultados em formato JSON para que seja mais legível"
   ]
  },
  {
   "cell_type": "code",
   "execution_count": 11,
   "id": "c4a6cd51",
   "metadata": {},
   "outputs": [
    {
     "name": "stdout",
     "output_type": "stream",
     "text": [
      "\n",
      "Solução encontrada:\n",
      "{\n",
      "    \"UC14_1\": 20,\n",
      "    \"UC14_2\": 19,\n",
      "    \"UC22_1\": 18,\n",
      "    \"UC22_2\": 17,\n",
      "    \"UC12_1\": 12,\n",
      "    \"UC12_2\": 11,\n",
      "    \"UC23_1\": 10,\n",
      "    \"UC23_2\": 9,\n",
      "    \"UC32_1\": 8,\n",
      "    \"UC32_2\": 7,\n",
      "    \"UC24_1\": 16,\n",
      "    \"UC24_2\": 15,\n",
      "    \"UC13_1\": 18,\n",
      "    \"UC13_2\": 17,\n",
      "    \"UC33_1\": 14,\n",
      "    \"UC33_2\": 13,\n",
      "    \"UC34_1\": 16,\n",
      "    \"UC34_2\": 15,\n",
      "    \"UC35_1\": 6,\n",
      "    \"UC35_2\": 5,\n",
      "    \"UC15_1\": 14,\n",
      "    \"UC15_2\": 13,\n",
      "    \"UC25_1\": 8,\n",
      "    \"UC25_2\": 7,\n",
      "    \"UC31_1\": 20,\n",
      "    \"UC31_2\": 19,\n",
      "    \"UC21_1\": 14,\n",
      "    \"UC21_2\": 13,\n",
      "    \"UC11_1\": 16,\n",
      "    \"UC11_2\": 15\n",
      "}\n"
     ]
    }
   ],
   "source": [
    "\n",
    "solucao = problem.getSolution()\n",
    "\n",
    "if solucao:\n",
    "    print(\"\\nSolução encontrada:\")\n",
    "    print(json.dumps(solucao, indent=4))\n",
    "else:\n",
    "    print(\"Nenhuma solução encontrada\")\n"
   ]
  }
 ],
 "metadata": {
  "kernelspec": {
   "display_name": "Python 3",
   "language": "python",
   "name": "python3"
  },
  "language_info": {
   "codemirror_mode": {
    "name": "ipython",
    "version": 3
   },
   "file_extension": ".py",
   "mimetype": "text/x-python",
   "name": "python",
   "nbconvert_exporter": "python",
   "pygments_lexer": "ipython3",
   "version": "3.14.0"
  }
 },
 "nbformat": 4,
 "nbformat_minor": 5
}
